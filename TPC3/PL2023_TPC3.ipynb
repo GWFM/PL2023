{
 "cells": [
  {
   "attachments": {},
   "cell_type": "markdown",
   "metadata": {},
   "source": [
    "#TPC3: Processador de Pessoas listadas nos Róis de Confessados\n",
    "\n",
    "(publicado em **2023.02.28**)\n",
    "\n",
    "Construa agora um ou vários programas Python\n",
    "para  processar o texto 'processos.txt' (procurar o ficheiro no Bb) com o intuito de\n",
    "calcular frequências de alguns elementos (a ideia é utilizar arrays associativos, dicionários em Python,\n",
    "para o efeito) conforme solicitado a seguir:\n",
    "\n",
    "> a) Calcula a frequência de processos por ano (primeiro elemento da data);\n",
    "\n",
    "> b) Calcula a frequência de nomes próprios (o primeiro em cada nome) e apelidos (o ultimo em cada nome) por séculos e apresenta os 5 mais usados;\n",
    "\n",
    "> c) Calcula a frequência dos vários tipos de relação: irmão, sobrinho, etc.;\n",
    "\n",
    "> d) Converta os 20 primeiros registos num novo ficheiro de output mas em formato **Json**.\n",
    "\n"
   ]
  }
 ],
 "metadata": {
  "kernelspec": {
   "display_name": "Python 3",
   "language": "python",
   "name": "python3"
  },
  "language_info": {
   "name": "python",
   "version": "3.9.13"
  },
  "orig_nbformat": 4,
  "vscode": {
   "interpreter": {
    "hash": "a5fb6159ffd23d52e40f686d3a886fb877886630e317c1a5657c6af360157020"
   }
  }
 },
 "nbformat": 4,
 "nbformat_minor": 2
}
